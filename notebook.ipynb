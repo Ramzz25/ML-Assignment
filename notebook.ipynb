{
  "nbformat": 4,
  "nbformat_minor": 0,
  "metadata": {
    "colab": {
      "name": "ML_assignment.ipynb",
      "provenance": [],
      "toc_visible": true
    },
    "kernelspec": {
      "name": "python3",
      "display_name": "Python 3"
    }
  },
  "cells": [
    {
      "cell_type": "markdown",
      "metadata": {
        "id": "-BIRE_uMS7so",
        "colab_type": "text"
      },
      "source": [
        "# ML assignment\n",
        "\n",
        "Predicting a news's virality likelihood."
      ]
    },
    {
      "cell_type": "markdown",
      "metadata": {
        "id": "N-uMAcn2S_bc",
        "colab_type": "text"
      },
      "source": [
        "## Getting data\n",
        "\n",
        "I have scrapped news headlines from India-Today website. <br>\n",
        "There were separate 'URLs' for trending and normal news.\n"
      ]
    },
    {
      "cell_type": "code",
      "metadata": {
        "id": "4Nka95H1_G-E",
        "colab_type": "code",
        "colab": {}
      },
      "source": [
        "#Librariers for web-scrapping\n",
        "import requests\n",
        "from bs4 import BeautifulSoup"
      ],
      "execution_count": 0,
      "outputs": []
    },
    {
      "cell_type": "code",
      "metadata": {
        "id": "H70QuWdiO7yJ",
        "colab_type": "code",
        "colab": {}
      },
      "source": [
        "#Function to get news headlines from a given URL\n",
        "def get_news(url, no_of_pages):\n",
        "  news = []\n",
        "  for i in range(no_of_pages):\n",
        "    url = url + str(i)\n",
        "    page = requests.get(url).text\n",
        "    soup = BeautifulSoup(page)\n",
        "    a_tags = soup.find_all('a')\n",
        "    a_tags_text = [tag.get_text().strip() for tag in a_tags]\n",
        "    sentence_list = [sentence for sentence in a_tags_text if len(sentence)>25]\n",
        "    news = news + sentence_list[:12]\n",
        "  return news"
      ],
      "execution_count": 0,
      "outputs": []
    },
    {
      "cell_type": "code",
      "metadata": {
        "id": "O4bAouRPN9rt",
        "colab_type": "code",
        "outputId": "a1fbaeaf-75b8-4a76-ae3d-be33372917cf",
        "colab": {
          "base_uri": "https://localhost:8080/",
          "height": 71
        }
      },
      "source": [
        "#getting trending headlines from India Today\n",
        "trend_news = get_news('https://www.indiatoday.in/trending-news?page=', 15)\n",
        "print(len(trend_news))\n",
        "print(trend_news)"
      ],
      "execution_count": 3,
      "outputs": [
        {
          "output_type": "stream",
          "text": [
            "180\n",
            "[\"Twitter has hilarious answers to Zomato's question about 2020\", 'Anand Mahindra is bowled over by social distancing in Tuk Tuk', \"TikTok videos: Iron Man's lookalike to Alaya F's quarantine workout\", 'Sudarsan Pattnaik salutes doctors and nurses with stunning sand art on Puri beach', 'Tiruppur Police teaches lesson to lockdown violators. Viral video', \"Don't step out of home: Mumbai Police warns netizens with Instagram post\", 'Gay couple distributes rainbow masks to raise awareness on Covid-19', 'Watch: Leopards play by the roadside in viral video', 'Coronavirus auto hits Chennai streets to raise awareness', 'Violinist and pedicab operator spread cheer in New Orleans with their Mobile Music Box', 'Are you drunk? Internet asks Twitter after it posts a bizarre tweet', 'Elephant rescued from agricultural well in Karnataka. Watch viral video', \"Banksy's Girl With A Pierced Eardrum artwork gets a face mask\", 'Can you count the number of tigers in this pic? Big B makes a guess', 'Animal keepers cheer up chimpanzees at Patna zoo during lockdown. Watch', 'Mumbai Police asks people to choose between lockdown and lock-up in Insta post', 'Video of elephant family travelling in disciplined manner goes viral', 'Old video of leopardess helping cubs cross road goes viral', 'Video of baby bird being fed with straw reminds Twitter of Demogorgon', 'First Lady Savita Kovind stitches face masks for Delhi shelter homes. Viral pic', 'With tourists gone, birds explore landmarks in Paris during coronavirus lockdown', 'Anand Mahindra posts nostalgic video for baby boomers', \"Viral pic of bulldog's lockdown sadness leaves Internet heartbroken\", 'Welsh health minister apologises after swearing about colleague', 'IndiGo to Vistara: Airlines have fun banter on importance of staying at home', 'Viral video depicts why social distancing is important. Seen it?', 'Uttar Pradesh man builds treehouse to maintain social distancing', 'Bengaluru Police warns of cyber fraud with Money Heist meme', 'Amul pays tribute to women working from and for home during lockdown', 'Mumbai Police ropes in Mojo Jojo to spread awareness', 'TikTok videos: Lockdown comfort food to passing time creatively', 'Pic of peacocks sitting at distance from each other in a school goes viral', 'Elephant in Andhra Pradesh rescued from 15 feet deep ditch', 'Video of dog running on treadmill goes viral', 'Giant pandas in Moscow zoo miss humans', 'Smriti shows how to make face masks ghar baithe', \"Twitter has hilarious answers to Zomato's question about 2020\", 'Anand Mahindra is bowled over by social distancing in Tuk Tuk', \"TikTok videos: Iron Man's lookalike to Alaya F's quarantine workout\", 'Sudarsan Pattnaik salutes doctors and nurses with stunning sand art on Puri beach', 'Tiruppur Police teaches lesson to lockdown violators. Viral video', \"Don't step out of home: Mumbai Police warns netizens with Instagram post\", 'Gay couple distributes rainbow masks to raise awareness on Covid-19', 'Watch: Leopards play by the roadside in viral video', 'Coronavirus auto hits Chennai streets to raise awareness', 'Violinist and pedicab operator spread cheer in New Orleans with their Mobile Music Box', 'Are you drunk? Internet asks Twitter after it posts a bizarre tweet', 'Elephant rescued from agricultural well in Karnataka. Watch viral video', \"Twitter has hilarious answers to Zomato's question about 2020\", 'Anand Mahindra is bowled over by social distancing in Tuk Tuk', \"TikTok videos: Iron Man's lookalike to Alaya F's quarantine workout\", 'Sudarsan Pattnaik salutes doctors and nurses with stunning sand art on Puri beach', 'Tiruppur Police teaches lesson to lockdown violators. Viral video', \"Don't step out of home: Mumbai Police warns netizens with Instagram post\", 'Gay couple distributes rainbow masks to raise awareness on Covid-19', 'Watch: Leopards play by the roadside in viral video', 'Coronavirus auto hits Chennai streets to raise awareness', 'Violinist and pedicab operator spread cheer in New Orleans with their Mobile Music Box', 'Are you drunk? Internet asks Twitter after it posts a bizarre tweet', 'Elephant rescued from agricultural well in Karnataka. Watch viral video', \"Twitter has hilarious answers to Zomato's question about 2020\", 'Anand Mahindra is bowled over by social distancing in Tuk Tuk', \"TikTok videos: Iron Man's lookalike to Alaya F's quarantine workout\", 'Sudarsan Pattnaik salutes doctors and nurses with stunning sand art on Puri beach', 'Tiruppur Police teaches lesson to lockdown violators. Viral video', \"Don't step out of home: Mumbai Police warns netizens with Instagram post\", 'Gay couple distributes rainbow masks to raise awareness on Covid-19', 'Watch: Leopards play by the roadside in viral video', 'Coronavirus auto hits Chennai streets to raise awareness', 'Violinist and pedicab operator spread cheer in New Orleans with their Mobile Music Box', 'Are you drunk? Internet asks Twitter after it posts a bizarre tweet', 'Elephant rescued from agricultural well in Karnataka. Watch viral video', \"Twitter has hilarious answers to Zomato's question about 2020\", 'Anand Mahindra is bowled over by social distancing in Tuk Tuk', \"TikTok videos: Iron Man's lookalike to Alaya F's quarantine workout\", 'Sudarsan Pattnaik salutes doctors and nurses with stunning sand art on Puri beach', 'Tiruppur Police teaches lesson to lockdown violators. Viral video', \"Don't step out of home: Mumbai Police warns netizens with Instagram post\", 'Gay couple distributes rainbow masks to raise awareness on Covid-19', 'Watch: Leopards play by the roadside in viral video', 'Coronavirus auto hits Chennai streets to raise awareness', 'Violinist and pedicab operator spread cheer in New Orleans with their Mobile Music Box', 'Are you drunk? Internet asks Twitter after it posts a bizarre tweet', 'Elephant rescued from agricultural well in Karnataka. Watch viral video', \"Twitter has hilarious answers to Zomato's question about 2020\", 'Anand Mahindra is bowled over by social distancing in Tuk Tuk', \"TikTok videos: Iron Man's lookalike to Alaya F's quarantine workout\", 'Sudarsan Pattnaik salutes doctors and nurses with stunning sand art on Puri beach', 'Tiruppur Police teaches lesson to lockdown violators. Viral video', \"Don't step out of home: Mumbai Police warns netizens with Instagram post\", 'Gay couple distributes rainbow masks to raise awareness on Covid-19', 'Watch: Leopards play by the roadside in viral video', 'Coronavirus auto hits Chennai streets to raise awareness', 'Violinist and pedicab operator spread cheer in New Orleans with their Mobile Music Box', 'Are you drunk? Internet asks Twitter after it posts a bizarre tweet', 'Elephant rescued from agricultural well in Karnataka. Watch viral video', \"Twitter has hilarious answers to Zomato's question about 2020\", 'Anand Mahindra is bowled over by social distancing in Tuk Tuk', \"TikTok videos: Iron Man's lookalike to Alaya F's quarantine workout\", 'Sudarsan Pattnaik salutes doctors and nurses with stunning sand art on Puri beach', 'Tiruppur Police teaches lesson to lockdown violators. Viral video', \"Don't step out of home: Mumbai Police warns netizens with Instagram post\", 'Gay couple distributes rainbow masks to raise awareness on Covid-19', 'Watch: Leopards play by the roadside in viral video', 'Coronavirus auto hits Chennai streets to raise awareness', 'Violinist and pedicab operator spread cheer in New Orleans with their Mobile Music Box', 'Are you drunk? Internet asks Twitter after it posts a bizarre tweet', 'Elephant rescued from agricultural well in Karnataka. Watch viral video', \"Twitter has hilarious answers to Zomato's question about 2020\", 'Anand Mahindra is bowled over by social distancing in Tuk Tuk', \"TikTok videos: Iron Man's lookalike to Alaya F's quarantine workout\", 'Sudarsan Pattnaik salutes doctors and nurses with stunning sand art on Puri beach', 'Tiruppur Police teaches lesson to lockdown violators. Viral video', \"Don't step out of home: Mumbai Police warns netizens with Instagram post\", 'Gay couple distributes rainbow masks to raise awareness on Covid-19', 'Watch: Leopards play by the roadside in viral video', 'Coronavirus auto hits Chennai streets to raise awareness', 'Violinist and pedicab operator spread cheer in New Orleans with their Mobile Music Box', 'Are you drunk? Internet asks Twitter after it posts a bizarre tweet', 'Elephant rescued from agricultural well in Karnataka. Watch viral video', \"Twitter has hilarious answers to Zomato's question about 2020\", 'Anand Mahindra is bowled over by social distancing in Tuk Tuk', \"TikTok videos: Iron Man's lookalike to Alaya F's quarantine workout\", 'Sudarsan Pattnaik salutes doctors and nurses with stunning sand art on Puri beach', 'Tiruppur Police teaches lesson to lockdown violators. Viral video', \"Don't step out of home: Mumbai Police warns netizens with Instagram post\", 'Gay couple distributes rainbow masks to raise awareness on Covid-19', 'Watch: Leopards play by the roadside in viral video', 'Coronavirus auto hits Chennai streets to raise awareness', 'Violinist and pedicab operator spread cheer in New Orleans with their Mobile Music Box', 'Are you drunk? Internet asks Twitter after it posts a bizarre tweet', 'Elephant rescued from agricultural well in Karnataka. Watch viral video', \"Twitter has hilarious answers to Zomato's question about 2020\", 'Anand Mahindra is bowled over by social distancing in Tuk Tuk', \"TikTok videos: Iron Man's lookalike to Alaya F's quarantine workout\", 'Sudarsan Pattnaik salutes doctors and nurses with stunning sand art on Puri beach', 'Tiruppur Police teaches lesson to lockdown violators. Viral video', \"Don't step out of home: Mumbai Police warns netizens with Instagram post\", 'Gay couple distributes rainbow masks to raise awareness on Covid-19', 'Watch: Leopards play by the roadside in viral video', 'Coronavirus auto hits Chennai streets to raise awareness', 'Violinist and pedicab operator spread cheer in New Orleans with their Mobile Music Box', 'Are you drunk? Internet asks Twitter after it posts a bizarre tweet', 'Elephant rescued from agricultural well in Karnataka. Watch viral video', \"Twitter has hilarious answers to Zomato's question about 2020\", 'Anand Mahindra is bowled over by social distancing in Tuk Tuk', \"TikTok videos: Iron Man's lookalike to Alaya F's quarantine workout\", 'Sudarsan Pattnaik salutes doctors and nurses with stunning sand art on Puri beach', 'Tiruppur Police teaches lesson to lockdown violators. Viral video', \"Don't step out of home: Mumbai Police warns netizens with Instagram post\", 'Gay couple distributes rainbow masks to raise awareness on Covid-19', 'Watch: Leopards play by the roadside in viral video', 'Coronavirus auto hits Chennai streets to raise awareness', 'Violinist and pedicab operator spread cheer in New Orleans with their Mobile Music Box', 'Are you drunk? Internet asks Twitter after it posts a bizarre tweet', 'Elephant rescued from agricultural well in Karnataka. Watch viral video', \"Twitter has hilarious answers to Zomato's question about 2020\", 'Anand Mahindra is bowled over by social distancing in Tuk Tuk', \"TikTok videos: Iron Man's lookalike to Alaya F's quarantine workout\", 'Sudarsan Pattnaik salutes doctors and nurses with stunning sand art on Puri beach', 'Tiruppur Police teaches lesson to lockdown violators. Viral video', \"Don't step out of home: Mumbai Police warns netizens with Instagram post\", 'Gay couple distributes rainbow masks to raise awareness on Covid-19', 'Watch: Leopards play by the roadside in viral video', 'Coronavirus auto hits Chennai streets to raise awareness', 'Violinist and pedicab operator spread cheer in New Orleans with their Mobile Music Box', 'Are you drunk? Internet asks Twitter after it posts a bizarre tweet', 'Elephant rescued from agricultural well in Karnataka. Watch viral video', \"Twitter has hilarious answers to Zomato's question about 2020\", 'Anand Mahindra is bowled over by social distancing in Tuk Tuk', \"TikTok videos: Iron Man's lookalike to Alaya F's quarantine workout\", 'Sudarsan Pattnaik salutes doctors and nurses with stunning sand art on Puri beach', 'Tiruppur Police teaches lesson to lockdown violators. Viral video', \"Don't step out of home: Mumbai Police warns netizens with Instagram post\", 'Gay couple distributes rainbow masks to raise awareness on Covid-19', 'Watch: Leopards play by the roadside in viral video', 'Coronavirus auto hits Chennai streets to raise awareness', 'Violinist and pedicab operator spread cheer in New Orleans with their Mobile Music Box', 'Are you drunk? Internet asks Twitter after it posts a bizarre tweet', 'Elephant rescued from agricultural well in Karnataka. Watch viral video']\n"
          ],
          "name": "stdout"
        }
      ]
    },
    {
      "cell_type": "code",
      "metadata": {
        "id": "ojgrj1uJPrjd",
        "colab_type": "code",
        "outputId": "85541ae8-c607-4439-85fc-9d791669161d",
        "colab": {
          "base_uri": "https://localhost:8080/",
          "height": 71
        }
      },
      "source": [
        "#getting normal headlines from India Today\n",
        "norm_news = get_news('https://www.indiatoday.in/india?page=', 15)\n",
        "print(len(norm_news))\n",
        "print(norm_news)"
      ],
      "execution_count": 4,
      "outputs": [
        {
          "output_type": "stream",
          "text": [
            "180\n",
            "['Covid-19 cases in India cross 23,000-mark, over 700 dead', '9 CRPF personnel test positive for Covid-19 in Delhi', 'End of lockdown in sight? Centre reopens shops selling non-essential goods, hopes to bend coronavirus curve by May 3', 'Ask national carrier to roll back 10 per cent pay cut: Air India unions to aviation min', 'Odisha Covid-19 tally rises to 94 after 4 new cases, all linked to Bengal', 'India records biggest single-day spike in in Covid-19 cases', 'Assam CM Sarbananda Sonowal distributes face masks among tea garden workers', 'MHA permits registered shops to open from Saturday | Read order here', 'Ahmedabad woman, who recovered from virus, donates plasma', 'Assam tightens vigil in bordering areas after Covid-19 cases rise in West Bengal', 'TN CM requests Kejriwal to provide best possible care to Tamils who attended Tablighi Jamaat', 'Assam: 2 DNLA terrorists killed in encounter with security forces\\xa0in\\xa0Karbi Anglong', 'Covid-19 lockdown aftermath: Salary cuts, layoffs across various sectors in India', 'Six new coronavirus cases in Dharavi', 'At least 6 people killed, 1 critical after being struck by lightning across Odisha', 'Gujarat: Woman ACP tests coronavirus positive in Ahmedabad', 'J&K: Security forces rescue abducted constable, gun down militants', \"CRPF jawan injured in grenade attack in J&K's Budgam district\", 'Should China pay for coronavirus crisis?', 'Maha: Migrants walking to UP trapped in valley while hiding from cops', \"Lockdown: Two clerics among 32 people booked for gathering for Friday prayers in UP's Bahraich\", 'Covid-19: Plasma Therapy likely to begin from Apr 25 in Karnataka', \"Hundreds violate lockdown, gather outside Madurai Collector's office for vehicle passes\", 'Five more test positive for Covid-19 in Odisha, total count 94', 'Coronavirus: ICMR puts Chinese rapid antibody testing kits through rigorous screening', 'Lockdown Blues: Punjab losing liquor revenues to smugglers, corrupt cops', 'Delhi Police raids farmhouse of Tablighi Jamaat chief Maulana Saad', 'Lockdown cuts PM2.5, PM10 levels by half in Delhi: CPCB', 'After Centre, Karnataka too brings in ordinance to protect doctors, health workers', \"How freezing Dearness Allowance hike can boost Indian government's Covid-19 war chest\", '20 doctors, paramedics isolated after surgeon tests Covid-19 positive at AMU hospital', 'Covid-19: Central team visits quarantine centre, hospital in Kolkata', 'Fact Check: Do not believe this emotional viral story with father-child photograph', \"6-month-old Phagwara girl detected with coronavirus dies at Chandigarh's PGIMER\", 'No problems in Kerala, central govt Covid-19 guidelines being followed: Governor Arif Khan', 'Coronavirus: School teacher flees to Karnataka in car amid lockdown', '9 CRPF personnel test positive for Covid-19 in Delhi', 'End of lockdown in sight? Centre reopens shops selling non-essential goods, hopes to bend coronavirus curve by May 3', 'Ask national carrier to roll back 10 per cent pay cut: Air India unions to aviation min', 'Odisha Covid-19 tally rises to 94 after 4 new cases, all linked to Bengal', 'India records biggest single-day spike in in Covid-19 cases', 'Assam CM Sarbananda Sonowal distributes face masks among tea garden workers', 'MHA permits registered shops to open from Saturday | Read order here', 'Ahmedabad woman, who recovered from virus, donates plasma', 'Assam tightens vigil in bordering areas after Covid-19 cases rise in West Bengal', 'TN CM requests Kejriwal to provide best possible care to Tamils who attended Tablighi Jamaat', 'Assam: 2 DNLA terrorists killed in encounter with security forces\\xa0in\\xa0Karbi Anglong', 'Covid-19 lockdown aftermath: Salary cuts, layoffs across various sectors in India', '9 CRPF personnel test positive for Covid-19 in Delhi', 'End of lockdown in sight? Centre reopens shops selling non-essential goods, hopes to bend coronavirus curve by May 3', 'Ask national carrier to roll back 10 per cent pay cut: Air India unions to aviation min', 'Odisha Covid-19 tally rises to 94 after 4 new cases, all linked to Bengal', 'India records biggest single-day spike in in Covid-19 cases', 'Assam CM Sarbananda Sonowal distributes face masks among tea garden workers', 'MHA permits registered shops to open from Saturday | Read order here', 'Ahmedabad woman, who recovered from virus, donates plasma', 'Assam tightens vigil in bordering areas after Covid-19 cases rise in West Bengal', 'TN CM requests Kejriwal to provide best possible care to Tamils who attended Tablighi Jamaat', 'Assam: 2 DNLA terrorists killed in encounter with security forces\\xa0in\\xa0Karbi Anglong', 'Covid-19 lockdown aftermath: Salary cuts, layoffs across various sectors in India', '9 CRPF personnel test positive for Covid-19 in Delhi', 'End of lockdown in sight? Centre reopens shops selling non-essential goods, hopes to bend coronavirus curve by May 3', 'Ask national carrier to roll back 10 per cent pay cut: Air India unions to aviation min', 'Odisha Covid-19 tally rises to 94 after 4 new cases, all linked to Bengal', 'India records biggest single-day spike in in Covid-19 cases', 'Assam CM Sarbananda Sonowal distributes face masks among tea garden workers', 'MHA permits registered shops to open from Saturday | Read order here', 'Ahmedabad woman, who recovered from virus, donates plasma', 'Assam tightens vigil in bordering areas after Covid-19 cases rise in West Bengal', 'TN CM requests Kejriwal to provide best possible care to Tamils who attended Tablighi Jamaat', 'Assam: 2 DNLA terrorists killed in encounter with security forces\\xa0in\\xa0Karbi Anglong', 'Covid-19 lockdown aftermath: Salary cuts, layoffs across various sectors in India', '9 CRPF personnel test positive for Covid-19 in Delhi', 'End of lockdown in sight? Centre reopens shops selling non-essential goods, hopes to bend coronavirus curve by May 3', 'Ask national carrier to roll back 10 per cent pay cut: Air India unions to aviation min', 'Odisha Covid-19 tally rises to 94 after 4 new cases, all linked to Bengal', 'India records biggest single-day spike in in Covid-19 cases', 'Assam CM Sarbananda Sonowal distributes face masks among tea garden workers', 'MHA permits registered shops to open from Saturday | Read order here', 'Ahmedabad woman, who recovered from virus, donates plasma', 'Assam tightens vigil in bordering areas after Covid-19 cases rise in West Bengal', 'TN CM requests Kejriwal to provide best possible care to Tamils who attended Tablighi Jamaat', 'Assam: 2 DNLA terrorists killed in encounter with security forces\\xa0in\\xa0Karbi Anglong', 'Covid-19 lockdown aftermath: Salary cuts, layoffs across various sectors in India', '9 CRPF personnel test positive for Covid-19 in Delhi', 'End of lockdown in sight? Centre reopens shops selling non-essential goods, hopes to bend coronavirus curve by May 3', 'Ask national carrier to roll back 10 per cent pay cut: Air India unions to aviation min', 'Odisha Covid-19 tally rises to 94 after 4 new cases, all linked to Bengal', 'India records biggest single-day spike in in Covid-19 cases', 'Assam CM Sarbananda Sonowal distributes face masks among tea garden workers', 'MHA permits registered shops to open from Saturday | Read order here', 'Ahmedabad woman, who recovered from virus, donates plasma', 'Assam tightens vigil in bordering areas after Covid-19 cases rise in West Bengal', 'TN CM requests Kejriwal to provide best possible care to Tamils who attended Tablighi Jamaat', 'Assam: 2 DNLA terrorists killed in encounter with security forces\\xa0in\\xa0Karbi Anglong', 'Covid-19 lockdown aftermath: Salary cuts, layoffs across various sectors in India', '9 CRPF personnel test positive for Covid-19 in Delhi', 'End of lockdown in sight? Centre reopens shops selling non-essential goods, hopes to bend coronavirus curve by May 3', 'Ask national carrier to roll back 10 per cent pay cut: Air India unions to aviation min', 'Odisha Covid-19 tally rises to 94 after 4 new cases, all linked to Bengal', 'India records biggest single-day spike in in Covid-19 cases', 'Assam CM Sarbananda Sonowal distributes face masks among tea garden workers', 'MHA permits registered shops to open from Saturday | Read order here', 'Ahmedabad woman, who recovered from virus, donates plasma', 'Assam tightens vigil in bordering areas after Covid-19 cases rise in West Bengal', 'TN CM requests Kejriwal to provide best possible care to Tamils who attended Tablighi Jamaat', 'Assam: 2 DNLA terrorists killed in encounter with security forces\\xa0in\\xa0Karbi Anglong', 'Covid-19 lockdown aftermath: Salary cuts, layoffs across various sectors in India', '9 CRPF personnel test positive for Covid-19 in Delhi', 'End of lockdown in sight? Centre reopens shops selling non-essential goods, hopes to bend coronavirus curve by May 3', 'Ask national carrier to roll back 10 per cent pay cut: Air India unions to aviation min', 'Odisha Covid-19 tally rises to 94 after 4 new cases, all linked to Bengal', 'India records biggest single-day spike in in Covid-19 cases', 'Assam CM Sarbananda Sonowal distributes face masks among tea garden workers', 'MHA permits registered shops to open from Saturday | Read order here', 'Ahmedabad woman, who recovered from virus, donates plasma', 'Assam tightens vigil in bordering areas after Covid-19 cases rise in West Bengal', 'TN CM requests Kejriwal to provide best possible care to Tamils who attended Tablighi Jamaat', 'Assam: 2 DNLA terrorists killed in encounter with security forces\\xa0in\\xa0Karbi Anglong', 'Covid-19 lockdown aftermath: Salary cuts, layoffs across various sectors in India', '9 CRPF personnel test positive for Covid-19 in Delhi', 'End of lockdown in sight? Centre reopens shops selling non-essential goods, hopes to bend coronavirus curve by May 3', 'Ask national carrier to roll back 10 per cent pay cut: Air India unions to aviation min', 'Odisha Covid-19 tally rises to 94 after 4 new cases, all linked to Bengal', 'India records biggest single-day spike in in Covid-19 cases', 'Assam CM Sarbananda Sonowal distributes face masks among tea garden workers', 'MHA permits registered shops to open from Saturday | Read order here', 'Ahmedabad woman, who recovered from virus, donates plasma', 'Assam tightens vigil in bordering areas after Covid-19 cases rise in West Bengal', 'TN CM requests Kejriwal to provide best possible care to Tamils who attended Tablighi Jamaat', 'Assam: 2 DNLA terrorists killed in encounter with security forces\\xa0in\\xa0Karbi Anglong', 'Covid-19 lockdown aftermath: Salary cuts, layoffs across various sectors in India', '9 CRPF personnel test positive for Covid-19 in Delhi', 'End of lockdown in sight? Centre reopens shops selling non-essential goods, hopes to bend coronavirus curve by May 3', 'Ask national carrier to roll back 10 per cent pay cut: Air India unions to aviation min', 'Odisha Covid-19 tally rises to 94 after 4 new cases, all linked to Bengal', 'India records biggest single-day spike in in Covid-19 cases', 'Assam CM Sarbananda Sonowal distributes face masks among tea garden workers', 'MHA permits registered shops to open from Saturday | Read order here', 'Ahmedabad woman, who recovered from virus, donates plasma', 'Assam tightens vigil in bordering areas after Covid-19 cases rise in West Bengal', 'TN CM requests Kejriwal to provide best possible care to Tamils who attended Tablighi Jamaat', 'Assam: 2 DNLA terrorists killed in encounter with security forces\\xa0in\\xa0Karbi Anglong', 'Covid-19 lockdown aftermath: Salary cuts, layoffs across various sectors in India', '9 CRPF personnel test positive for Covid-19 in Delhi', 'End of lockdown in sight? Centre reopens shops selling non-essential goods, hopes to bend coronavirus curve by May 3', 'Ask national carrier to roll back 10 per cent pay cut: Air India unions to aviation min', 'Odisha Covid-19 tally rises to 94 after 4 new cases, all linked to Bengal', 'India records biggest single-day spike in in Covid-19 cases', 'Assam CM Sarbananda Sonowal distributes face masks among tea garden workers', 'MHA permits registered shops to open from Saturday | Read order here', 'Ahmedabad woman, who recovered from virus, donates plasma', 'Assam tightens vigil in bordering areas after Covid-19 cases rise in West Bengal', 'TN CM requests Kejriwal to provide best possible care to Tamils who attended Tablighi Jamaat', 'Assam: 2 DNLA terrorists killed in encounter with security forces\\xa0in\\xa0Karbi Anglong', 'Covid-19 lockdown aftermath: Salary cuts, layoffs across various sectors in India', '9 CRPF personnel test positive for Covid-19 in Delhi', 'End of lockdown in sight? Centre reopens shops selling non-essential goods, hopes to bend coronavirus curve by May 3', 'Ask national carrier to roll back 10 per cent pay cut: Air India unions to aviation min', 'Odisha Covid-19 tally rises to 94 after 4 new cases, all linked to Bengal', 'India records biggest single-day spike in in Covid-19 cases', 'Assam CM Sarbananda Sonowal distributes face masks among tea garden workers', 'MHA permits registered shops to open from Saturday | Read order here', 'Ahmedabad woman, who recovered from virus, donates plasma', 'Assam tightens vigil in bordering areas after Covid-19 cases rise in West Bengal', 'TN CM requests Kejriwal to provide best possible care to Tamils who attended Tablighi Jamaat', 'Assam: 2 DNLA terrorists killed in encounter with security forces\\xa0in\\xa0Karbi Anglong', 'Covid-19 lockdown aftermath: Salary cuts, layoffs across various sectors in India', '9 CRPF personnel test positive for Covid-19 in Delhi', 'End of lockdown in sight? Centre reopens shops selling non-essential goods, hopes to bend coronavirus curve by May 3', 'Ask national carrier to roll back 10 per cent pay cut: Air India unions to aviation min', 'Odisha Covid-19 tally rises to 94 after 4 new cases, all linked to Bengal', 'India records biggest single-day spike in in Covid-19 cases', 'Assam CM Sarbananda Sonowal distributes face masks among tea garden workers', 'MHA permits registered shops to open from Saturday | Read order here', 'Ahmedabad woman, who recovered from virus, donates plasma', 'Assam tightens vigil in bordering areas after Covid-19 cases rise in West Bengal', 'TN CM requests Kejriwal to provide best possible care to Tamils who attended Tablighi Jamaat', 'Assam: 2 DNLA terrorists killed in encounter with security forces\\xa0in\\xa0Karbi Anglong', 'Covid-19 lockdown aftermath: Salary cuts, layoffs across various sectors in India']\n"
          ],
          "name": "stdout"
        }
      ]
    },
    {
      "cell_type": "code",
      "metadata": {
        "id": "VNhzHu6XZwqo",
        "colab_type": "code",
        "colab": {
          "base_uri": "https://localhost:8080/",
          "height": 71
        },
        "outputId": "b4be878b-7efc-4e9f-d85b-2d356b0c57c3"
      },
      "source": [
        "#getting today's headlines from India Today\n",
        "#Used to predict the virality likelihood\n",
        "test_news = get_news('https://www.indiatoday.in/mail-today?page=', 10)\n",
        "print(len(test_news))\n",
        "print(test_news)"
      ],
      "execution_count": 5,
      "outputs": [
        {
          "output_type": "stream",
          "text": [
            "120\n",
            "['Web series actors are bingeing on', 'Concerts for fighters of Corona', \"Hum Bhi Warriors: Residents come to Delhi Police's aid in fight against Covid-19\", 'Coronavirus: At Delhi-Noida border, health workers facing huge problems over pass issue', 'Coronavirus pandemic: Testing times for Delhi as Covid-19 cases surge', 'Shades of reality in abstraction', 'India co-sponsors global effort against Covid-19, Pakistan objects | Exclusive', 'Coronavirus: How a crucial machine required to manage patients at ICU was fixed', 'Rise of the asymptomatic: Fresh twist in war against\\xa0coronavirus', 'Coronavirus: What does 80% asymptomatic cases mean?', 'Coronavirus Tracker: Gujarat overtakes Delhi, now has 2nd highest cases after Maharashtra', 'DEEP DIVE | Coronavirus: What is community transmission?', 'Coronavirus: Delhi man recovers, vows to donate plasma', 'Coronavirus: Most patients in Maharashtra\\xa0display no symptoms', 'Frontline warriors fighting myth and reality', 'Palghar lynching case: Yogi Adityanath dials Uddhav Thackeray, demands strict action against culprits', 'No coronavirus lockdown relief for Noida and Ghaziabad', 'Coronavirus in India: Traffic returns as offices open', 'Maulana Saad told to take Covid-19 test before joining probe', \"Coronavirus in India: Delhi's MSME sector left to fend for itself\", 'Defence Colony residents object to new Covid-19 hospital', 'Coronavirus: How to find out if the PPE kits are fake', 'Karnataka CM Yediyurappa must be wary of dissenters', 'Apps in the time of Corona', 'Hunt escalates for the elusive coronavirus vaccine', '108 doctors & nurses quarantined in Delhi', \"Coronavirus in India: A Coimbatore bakery's idea of social distancing\", 'Coronavirus in India: Lockdown hits food supply, prices rising', \"Coronavirus in India: Police conduct pan-India search ops to identify 'super spreaders'\", 'Coronavirus: 5 new positive cases reported in Gurugram', 'Pandemics on the silver screen', 'How they are making the most of isolation', 'Lockdown downside: Domestic violence up', 'Covid-19 lockdown: Petty crimes decline in Delhi', \"Hotspots that can swing India's Covid-19 war\", 'Coronavirus Tracker: Gujarat overtakes Delhi, now has 2nd highest cases after Maharashtra', 'Web series actors are bingeing on', 'Concerts for fighters of Corona', \"Hum Bhi Warriors: Residents come to Delhi Police's aid in fight against Covid-19\", 'Coronavirus: At Delhi-Noida border, health workers facing huge problems over pass issue', 'Coronavirus pandemic: Testing times for Delhi as Covid-19 cases surge', 'Shades of reality in abstraction', 'India co-sponsors global effort against Covid-19, Pakistan objects | Exclusive', 'Coronavirus: How a crucial machine required to manage patients at ICU was fixed', 'Rise of the asymptomatic: Fresh twist in war against\\xa0coronavirus', 'Coronavirus: What does 80% asymptomatic cases mean?', 'Coronavirus Tracker: Gujarat overtakes Delhi, now has 2nd highest cases after Maharashtra', 'DEEP DIVE | Coronavirus: What is community transmission?', 'Web series actors are bingeing on', 'Concerts for fighters of Corona', \"Hum Bhi Warriors: Residents come to Delhi Police's aid in fight against Covid-19\", 'Coronavirus: At Delhi-Noida border, health workers facing huge problems over pass issue', 'Coronavirus pandemic: Testing times for Delhi as Covid-19 cases surge', 'Shades of reality in abstraction', 'India co-sponsors global effort against Covid-19, Pakistan objects | Exclusive', 'Coronavirus: How a crucial machine required to manage patients at ICU was fixed', 'Rise of the asymptomatic: Fresh twist in war against\\xa0coronavirus', 'Coronavirus: What does 80% asymptomatic cases mean?', 'Coronavirus Tracker: Gujarat overtakes Delhi, now has 2nd highest cases after Maharashtra', 'DEEP DIVE | Coronavirus: What is community transmission?', 'Web series actors are bingeing on', 'Concerts for fighters of Corona', \"Hum Bhi Warriors: Residents come to Delhi Police's aid in fight against Covid-19\", 'Coronavirus: At Delhi-Noida border, health workers facing huge problems over pass issue', 'Coronavirus pandemic: Testing times for Delhi as Covid-19 cases surge', 'Shades of reality in abstraction', 'India co-sponsors global effort against Covid-19, Pakistan objects | Exclusive', 'Coronavirus: How a crucial machine required to manage patients at ICU was fixed', 'Rise of the asymptomatic: Fresh twist in war against\\xa0coronavirus', 'Coronavirus: What does 80% asymptomatic cases mean?', 'Coronavirus Tracker: Gujarat overtakes Delhi, now has 2nd highest cases after Maharashtra', 'DEEP DIVE | Coronavirus: What is community transmission?', 'Web series actors are bingeing on', 'Concerts for fighters of Corona', \"Hum Bhi Warriors: Residents come to Delhi Police's aid in fight against Covid-19\", 'Coronavirus: At Delhi-Noida border, health workers facing huge problems over pass issue', 'Coronavirus pandemic: Testing times for Delhi as Covid-19 cases surge', 'Shades of reality in abstraction', 'India co-sponsors global effort against Covid-19, Pakistan objects | Exclusive', 'Coronavirus: How a crucial machine required to manage patients at ICU was fixed', 'Rise of the asymptomatic: Fresh twist in war against\\xa0coronavirus', 'Coronavirus: What does 80% asymptomatic cases mean?', 'Coronavirus Tracker: Gujarat overtakes Delhi, now has 2nd highest cases after Maharashtra', 'DEEP DIVE | Coronavirus: What is community transmission?', 'Web series actors are bingeing on', 'Concerts for fighters of Corona', \"Hum Bhi Warriors: Residents come to Delhi Police's aid in fight against Covid-19\", 'Coronavirus: At Delhi-Noida border, health workers facing huge problems over pass issue', 'Coronavirus pandemic: Testing times for Delhi as Covid-19 cases surge', 'Shades of reality in abstraction', 'India co-sponsors global effort against Covid-19, Pakistan objects | Exclusive', 'Coronavirus: How a crucial machine required to manage patients at ICU was fixed', 'Rise of the asymptomatic: Fresh twist in war against\\xa0coronavirus', 'Coronavirus: What does 80% asymptomatic cases mean?', 'Coronavirus Tracker: Gujarat overtakes Delhi, now has 2nd highest cases after Maharashtra', 'DEEP DIVE | Coronavirus: What is community transmission?', 'Web series actors are bingeing on', 'Concerts for fighters of Corona', \"Hum Bhi Warriors: Residents come to Delhi Police's aid in fight against Covid-19\", 'Coronavirus: At Delhi-Noida border, health workers facing huge problems over pass issue', 'Coronavirus pandemic: Testing times for Delhi as Covid-19 cases surge', 'Shades of reality in abstraction', 'India co-sponsors global effort against Covid-19, Pakistan objects | Exclusive', 'Coronavirus: How a crucial machine required to manage patients at ICU was fixed', 'Rise of the asymptomatic: Fresh twist in war against\\xa0coronavirus', 'Coronavirus: What does 80% asymptomatic cases mean?', 'Coronavirus Tracker: Gujarat overtakes Delhi, now has 2nd highest cases after Maharashtra', 'DEEP DIVE | Coronavirus: What is community transmission?', 'Web series actors are bingeing on', 'Concerts for fighters of Corona', \"Hum Bhi Warriors: Residents come to Delhi Police's aid in fight against Covid-19\", 'Coronavirus: At Delhi-Noida border, health workers facing huge problems over pass issue', 'Coronavirus pandemic: Testing times for Delhi as Covid-19 cases surge', 'Shades of reality in abstraction', 'India co-sponsors global effort against Covid-19, Pakistan objects | Exclusive', 'Coronavirus: How a crucial machine required to manage patients at ICU was fixed', 'Rise of the asymptomatic: Fresh twist in war against\\xa0coronavirus', 'Coronavirus: What does 80% asymptomatic cases mean?', 'Coronavirus Tracker: Gujarat overtakes Delhi, now has 2nd highest cases after Maharashtra', 'DEEP DIVE | Coronavirus: What is community transmission?']\n"
          ],
          "name": "stdout"
        }
      ]
    },
    {
      "cell_type": "code",
      "metadata": {
        "id": "U4ogYo6kOeBn",
        "colab_type": "code",
        "colab": {}
      },
      "source": [
        "#Libraries for holding data\n",
        "import numpy as np\n",
        "import pandas as pd"
      ],
      "execution_count": 0,
      "outputs": []
    },
    {
      "cell_type": "code",
      "metadata": {
        "id": "E7hqF_DmQVh5",
        "colab_type": "code",
        "colab": {}
      },
      "source": [
        "#First 180 headlines are trending and the next 180 were normal ones\n",
        "Y_true = np.asarray([1]*180 + [0]*180)\n",
        "news_df = pd.DataFrame({'news':trend_news+norm_news})\n",
        "test_df = pd.DataFrame({'news':test_news})"
      ],
      "execution_count": 0,
      "outputs": []
    },
    {
      "cell_type": "code",
      "metadata": {
        "id": "0dZ8iYRyRM8G",
        "colab_type": "code",
        "outputId": "9c9968ea-791a-412d-b828-03d4ef036281",
        "colab": {
          "base_uri": "https://localhost:8080/",
          "height": 142
        }
      },
      "source": [
        "news_df.head(3)"
      ],
      "execution_count": 8,
      "outputs": [
        {
          "output_type": "execute_result",
          "data": {
            "text/html": [
              "<div>\n",
              "<style scoped>\n",
              "    .dataframe tbody tr th:only-of-type {\n",
              "        vertical-align: middle;\n",
              "    }\n",
              "\n",
              "    .dataframe tbody tr th {\n",
              "        vertical-align: top;\n",
              "    }\n",
              "\n",
              "    .dataframe thead th {\n",
              "        text-align: right;\n",
              "    }\n",
              "</style>\n",
              "<table border=\"1\" class=\"dataframe\">\n",
              "  <thead>\n",
              "    <tr style=\"text-align: right;\">\n",
              "      <th></th>\n",
              "      <th>news</th>\n",
              "    </tr>\n",
              "  </thead>\n",
              "  <tbody>\n",
              "    <tr>\n",
              "      <th>0</th>\n",
              "      <td>Twitter has hilarious answers to Zomato's ques...</td>\n",
              "    </tr>\n",
              "    <tr>\n",
              "      <th>1</th>\n",
              "      <td>Anand Mahindra is bowled over by social distan...</td>\n",
              "    </tr>\n",
              "    <tr>\n",
              "      <th>2</th>\n",
              "      <td>TikTok videos: Iron Man's lookalike to Alaya F...</td>\n",
              "    </tr>\n",
              "  </tbody>\n",
              "</table>\n",
              "</div>"
            ],
            "text/plain": [
              "                                                news\n",
              "0  Twitter has hilarious answers to Zomato's ques...\n",
              "1  Anand Mahindra is bowled over by social distan...\n",
              "2  TikTok videos: Iron Man's lookalike to Alaya F..."
            ]
          },
          "metadata": {
            "tags": []
          },
          "execution_count": 8
        }
      ]
    },
    {
      "cell_type": "code",
      "metadata": {
        "id": "V5Wb0ffvaiiK",
        "colab_type": "code",
        "colab": {
          "base_uri": "https://localhost:8080/",
          "height": 142
        },
        "outputId": "680c3fcc-9908-4675-abb2-f1d4f2b62380"
      },
      "source": [
        "test_df.head(3)"
      ],
      "execution_count": 9,
      "outputs": [
        {
          "output_type": "execute_result",
          "data": {
            "text/html": [
              "<div>\n",
              "<style scoped>\n",
              "    .dataframe tbody tr th:only-of-type {\n",
              "        vertical-align: middle;\n",
              "    }\n",
              "\n",
              "    .dataframe tbody tr th {\n",
              "        vertical-align: top;\n",
              "    }\n",
              "\n",
              "    .dataframe thead th {\n",
              "        text-align: right;\n",
              "    }\n",
              "</style>\n",
              "<table border=\"1\" class=\"dataframe\">\n",
              "  <thead>\n",
              "    <tr style=\"text-align: right;\">\n",
              "      <th></th>\n",
              "      <th>news</th>\n",
              "    </tr>\n",
              "  </thead>\n",
              "  <tbody>\n",
              "    <tr>\n",
              "      <th>0</th>\n",
              "      <td>Web series actors are bingeing on</td>\n",
              "    </tr>\n",
              "    <tr>\n",
              "      <th>1</th>\n",
              "      <td>Concerts for fighters of Corona</td>\n",
              "    </tr>\n",
              "    <tr>\n",
              "      <th>2</th>\n",
              "      <td>Hum Bhi Warriors: Residents come to Delhi Poli...</td>\n",
              "    </tr>\n",
              "  </tbody>\n",
              "</table>\n",
              "</div>"
            ],
            "text/plain": [
              "                                                news\n",
              "0                  Web series actors are bingeing on\n",
              "1                    Concerts for fighters of Corona\n",
              "2  Hum Bhi Warriors: Residents come to Delhi Poli..."
            ]
          },
          "metadata": {
            "tags": []
          },
          "execution_count": 9
        }
      ]
    },
    {
      "cell_type": "markdown",
      "metadata": {
        "id": "ATjY6UFVS47K",
        "colab_type": "text"
      },
      "source": [
        "## Preprocessing the data\n",
        "\n",
        "These are the preprocessing which I have done : <br>\n",
        "1. Changing every alphabet to lowercase - this eliminates the difference between 'The' and 'the'.\n",
        "2. Removing special characters - the special characters won't contribute much to the output variable.\n",
        "3. Lemmetizing each word - used to change words into its root form. Ex: Chilren->Child, this helps reducing redundant information in a sentence."
      ]
    },
    {
      "cell_type": "code",
      "metadata": {
        "id": "Y_wP__LoRCb9",
        "colab_type": "code",
        "outputId": "66e9a317-dbec-43fb-eb8a-a3d9bad5090e",
        "colab": {
          "base_uri": "https://localhost:8080/",
          "height": 51
        }
      },
      "source": [
        "#Importing libraries required for preprocessing the data\n",
        "import re\n",
        "import nltk\n",
        "nltk.download('wordnet')\n",
        "\n",
        "from nltk.tokenize import WordPunctTokenizer\n",
        "tokenizer = WordPunctTokenizer()\n",
        "from nltk.stem import WordNetLemmatizer\n",
        "wnl = WordNetLemmatizer()"
      ],
      "execution_count": 10,
      "outputs": [
        {
          "output_type": "stream",
          "text": [
            "[nltk_data] Downloading package wordnet to /root/nltk_data...\n",
            "[nltk_data]   Package wordnet is already up-to-date!\n"
          ],
          "name": "stdout"
        }
      ]
    },
    {
      "cell_type": "code",
      "metadata": {
        "id": "J9phVolzQkQ-",
        "colab_type": "code",
        "colab": {}
      },
      "source": [
        "#Function to change every word to lowercase\n",
        "def chn_lower_case(df,col):\n",
        "  df[col] = df[col].str.lower()\n",
        "  return df"
      ],
      "execution_count": 0,
      "outputs": []
    },
    {
      "cell_type": "code",
      "metadata": {
        "id": "1jzIqe2bQydQ",
        "colab_type": "code",
        "colab": {}
      },
      "source": [
        "#Function to remove non-alphanumericals\n",
        "def remove_special_characters(df, col):\n",
        "  proc_text = []\n",
        "  for text in df[col]:\n",
        "    pattern = r'[^a-zA-z0-9\\s]'\n",
        "    text = re.sub(pattern, '', text)\n",
        "    proc_text.append(text)\n",
        "  df[col] = proc_text\n",
        "  return df"
      ],
      "execution_count": 0,
      "outputs": []
    },
    {
      "cell_type": "code",
      "metadata": {
        "id": "z_1xFFOpQ-S8",
        "colab_type": "code",
        "colab": {}
      },
      "source": [
        "#Function to lemmantize the dataframe\n",
        "def lemment(df, col):\n",
        "  proc_text = []\n",
        "\n",
        "  for text in df[col]:\n",
        "    text = ' '.join([wnl.lemmatize(word) for word in text.split()])\n",
        "    proc_text.append(text)\n",
        "  df[col] = proc_text\n",
        "  return df"
      ],
      "execution_count": 0,
      "outputs": []
    },
    {
      "cell_type": "code",
      "metadata": {
        "id": "BfHTMByRRI64",
        "colab_type": "code",
        "colab": {}
      },
      "source": [
        "#Processing the dataframe\n",
        "def process_df(df_to_process, col):\n",
        "  df = chn_lower_case(df_to_process, col)\n",
        "  df = remove_special_characters(df, col)\n",
        "  df = lemment(df, col)\n",
        "  return df"
      ],
      "execution_count": 0,
      "outputs": []
    },
    {
      "cell_type": "code",
      "metadata": {
        "id": "Ith8teI4RL6I",
        "colab_type": "code",
        "outputId": "30967583-85cd-4265-aaea-22b45c132a12",
        "colab": {
          "base_uri": "https://localhost:8080/",
          "height": 142
        }
      },
      "source": [
        "news_df = process_df(news_df,'news')\n",
        "news_df.head(3)"
      ],
      "execution_count": 15,
      "outputs": [
        {
          "output_type": "execute_result",
          "data": {
            "text/html": [
              "<div>\n",
              "<style scoped>\n",
              "    .dataframe tbody tr th:only-of-type {\n",
              "        vertical-align: middle;\n",
              "    }\n",
              "\n",
              "    .dataframe tbody tr th {\n",
              "        vertical-align: top;\n",
              "    }\n",
              "\n",
              "    .dataframe thead th {\n",
              "        text-align: right;\n",
              "    }\n",
              "</style>\n",
              "<table border=\"1\" class=\"dataframe\">\n",
              "  <thead>\n",
              "    <tr style=\"text-align: right;\">\n",
              "      <th></th>\n",
              "      <th>news</th>\n",
              "    </tr>\n",
              "  </thead>\n",
              "  <tbody>\n",
              "    <tr>\n",
              "      <th>0</th>\n",
              "      <td>twitter ha hilarious answer to zomatos questio...</td>\n",
              "    </tr>\n",
              "    <tr>\n",
              "      <th>1</th>\n",
              "      <td>anand mahindra is bowled over by social distan...</td>\n",
              "    </tr>\n",
              "    <tr>\n",
              "      <th>2</th>\n",
              "      <td>tiktok video iron man lookalike to alaya f qua...</td>\n",
              "    </tr>\n",
              "  </tbody>\n",
              "</table>\n",
              "</div>"
            ],
            "text/plain": [
              "                                                news\n",
              "0  twitter ha hilarious answer to zomatos questio...\n",
              "1  anand mahindra is bowled over by social distan...\n",
              "2  tiktok video iron man lookalike to alaya f qua..."
            ]
          },
          "metadata": {
            "tags": []
          },
          "execution_count": 15
        }
      ]
    },
    {
      "cell_type": "code",
      "metadata": {
        "id": "cogBfvQgck4w",
        "colab_type": "code",
        "colab": {
          "base_uri": "https://localhost:8080/",
          "height": 142
        },
        "outputId": "80e9708a-2c52-4fae-9acc-b8c2025ca98d"
      },
      "source": [
        "test_df = process_df(test_df,'news')\n",
        "test_df.head(3)"
      ],
      "execution_count": 16,
      "outputs": [
        {
          "output_type": "execute_result",
          "data": {
            "text/html": [
              "<div>\n",
              "<style scoped>\n",
              "    .dataframe tbody tr th:only-of-type {\n",
              "        vertical-align: middle;\n",
              "    }\n",
              "\n",
              "    .dataframe tbody tr th {\n",
              "        vertical-align: top;\n",
              "    }\n",
              "\n",
              "    .dataframe thead th {\n",
              "        text-align: right;\n",
              "    }\n",
              "</style>\n",
              "<table border=\"1\" class=\"dataframe\">\n",
              "  <thead>\n",
              "    <tr style=\"text-align: right;\">\n",
              "      <th></th>\n",
              "      <th>news</th>\n",
              "    </tr>\n",
              "  </thead>\n",
              "  <tbody>\n",
              "    <tr>\n",
              "      <th>0</th>\n",
              "      <td>web series actor are bingeing on</td>\n",
              "    </tr>\n",
              "    <tr>\n",
              "      <th>1</th>\n",
              "      <td>concert for fighter of corona</td>\n",
              "    </tr>\n",
              "    <tr>\n",
              "      <th>2</th>\n",
              "      <td>hum bhi warrior resident come to delhi police ...</td>\n",
              "    </tr>\n",
              "  </tbody>\n",
              "</table>\n",
              "</div>"
            ],
            "text/plain": [
              "                                                news\n",
              "0                   web series actor are bingeing on\n",
              "1                      concert for fighter of corona\n",
              "2  hum bhi warrior resident come to delhi police ..."
            ]
          },
          "metadata": {
            "tags": []
          },
          "execution_count": 16
        }
      ]
    },
    {
      "cell_type": "markdown",
      "metadata": {
        "id": "gxHjHhHGdWJm",
        "colab_type": "text"
      },
      "source": [
        "## Feature extraction and Modeling\n",
        "\n",
        "I have used a TF - IDF (Term Frequency — Inverse Document Frequency) vectoriser to convert a sentence into a vector. <br>\n",
        "Then used a simple logistic regression model to predict the probability of news becoming viral."
      ]
    },
    {
      "cell_type": "code",
      "metadata": {
        "id": "86ww-R9-R5aw",
        "colab_type": "code",
        "colab": {
          "base_uri": "https://localhost:8080/",
          "height": 51
        },
        "outputId": "0ca36553-6616-4144-d3d5-6467fb99ead0"
      },
      "source": [
        "#Importing libraries for feature extraction and modeling\n",
        "from sklearn.feature_extraction.text import TfidfVectorizer\n",
        "from sklearn.linear_model import LogisticRegression\n",
        "from sklearn.metrics import f1_score,accuracy_score\n",
        "from sklearn.model_selection import train_test_split\n",
        "from sklearn.metrics import plot_confusion_matrix\n",
        "#Libraries for visualization\n",
        "import seaborn as sn\n",
        "import matplotlib.pyplot as plt"
      ],
      "execution_count": 17,
      "outputs": [
        {
          "output_type": "stream",
          "text": [
            "/usr/local/lib/python3.6/dist-packages/statsmodels/tools/_testing.py:19: FutureWarning: pandas.util.testing is deprecated. Use the functions in the public API at pandas.testing instead.\n",
            "  import pandas.util.testing as tm\n"
          ],
          "name": "stderr"
        }
      ]
    },
    {
      "cell_type": "code",
      "metadata": {
        "id": "yTWOGPa7R7oP",
        "colab_type": "code",
        "outputId": "79af511b-b66f-47cb-d5da-dcf3a754e1e4",
        "colab": {
          "base_uri": "https://localhost:8080/",
          "height": 51
        }
      },
      "source": [
        "#Extracting features from the preprocessed headlines\n",
        "tv = TfidfVectorizer()\n",
        "X = tv.fit_transform(news_df['news'])\n",
        "X_test = tv.transform(test_df['news'])\n",
        "print(X.shape)\n",
        "print(X_test.shape)"
      ],
      "execution_count": 18,
      "outputs": [
        {
          "output_type": "stream",
          "text": [
            "(360, 467)\n",
            "(120, 467)\n"
          ],
          "name": "stdout"
        }
      ]
    },
    {
      "cell_type": "code",
      "metadata": {
        "id": "SL7YGMbYRxfY",
        "colab_type": "code",
        "outputId": "99e31c78-be62-4cb2-860d-8b5ab9124612",
        "colab": {
          "base_uri": "https://localhost:8080/",
          "height": 51
        }
      },
      "source": [
        "#spiltting the datapoints into train and validation set\n",
        "X_train, X_val, y_train, y_val = train_test_split(X,Y_true,test_size=0.3,random_state=0,stratify=Y_true)\n",
        "print(X_train.shape)\n",
        "print(X_val.shape)"
      ],
      "execution_count": 19,
      "outputs": [
        {
          "output_type": "stream",
          "text": [
            "(252, 467)\n",
            "(108, 467)\n"
          ],
          "name": "stdout"
        }
      ]
    },
    {
      "cell_type": "code",
      "metadata": {
        "id": "a4TLAzB8SHnl",
        "colab_type": "code",
        "colab": {}
      },
      "source": [
        "#Fitting logistic regression model to the data\n",
        "lr = LogisticRegression(max_iter=100)\n",
        "lr.fit(X_train,y_train)\n",
        "pred=lr.predict(X_val)"
      ],
      "execution_count": 0,
      "outputs": []
    },
    {
      "cell_type": "code",
      "metadata": {
        "id": "at13fK-3SW6o",
        "colab_type": "code",
        "outputId": "63f5d326-99ab-4e15-f4cb-79eb7b1c6126",
        "colab": {
          "base_uri": "https://localhost:8080/",
          "height": 51
        }
      },
      "source": [
        "#Validating the model's acuuracy\n",
        "print('Validation F1-score : ' + str(f1_score(pred,y_val)))\n",
        "print('Validation Accuracy : ' + str(accuracy_score(pred,y_val)))"
      ],
      "execution_count": 21,
      "outputs": [
        {
          "output_type": "stream",
          "text": [
            "Validation F1-score : 0.9719626168224299\n",
            "Validation Accuracy : 0.9722222222222222\n"
          ],
          "name": "stdout"
        }
      ]
    },
    {
      "cell_type": "code",
      "metadata": {
        "id": "sedqfvtgiADJ",
        "colab_type": "code",
        "colab": {
          "base_uri": "https://localhost:8080/",
          "height": 279
        },
        "outputId": "4955a466-e5cf-4569-ec12-b36634f55568"
      },
      "source": [
        "#Confusion matrix\n",
        "plot_confusion_matrix(lr,X_val,y_val)\n",
        "plt.show()"
      ],
      "execution_count": 22,
      "outputs": [
        {
          "output_type": "display_data",
          "data": {
            "image/png": "[encoded data removed]",
            "text/plain": [
              "<Figure size 432x288 with 2 Axes>"
            ]
          },
          "metadata": {
            "tags": [],
            "needs_background": "light"
          }
        }
      ]
    },
    {
      "cell_type": "code",
      "metadata": {
        "id": "jgEQxa2PSYvF",
        "colab_type": "code",
        "colab": {
          "base_uri": "https://localhost:8080/",
          "height": 204
        },
        "outputId": "d582a8f9-a72f-4e3a-c6ce-a92eda978453"
      },
      "source": [
        "#Predicting likelihood for test data\n",
        "y_test = lr.predict_proba(X_test)[:,1]\n",
        "pred_df = pd.DataFrame({'news':test_news,'virality likelihood':y_test*100})\n",
        "pred_df.to_csv('predictions.csv')\n",
        "pred_df.head()"
      ],
      "execution_count": 23,
      "outputs": [
        {
          "output_type": "execute_result",
          "data": {
            "text/html": [
              "<div>\n",
              "<style scoped>\n",
              "    .dataframe tbody tr th:only-of-type {\n",
              "        vertical-align: middle;\n",
              "    }\n",
              "\n",
              "    .dataframe tbody tr th {\n",
              "        vertical-align: top;\n",
              "    }\n",
              "\n",
              "    .dataframe thead th {\n",
              "        text-align: right;\n",
              "    }\n",
              "</style>\n",
              "<table border=\"1\" class=\"dataframe\">\n",
              "  <thead>\n",
              "    <tr style=\"text-align: right;\">\n",
              "      <th></th>\n",
              "      <th>news</th>\n",
              "      <th>virality likelihood</th>\n",
              "    </tr>\n",
              "  </thead>\n",
              "  <tbody>\n",
              "    <tr>\n",
              "      <th>0</th>\n",
              "      <td>Web series actors are bingeing on</td>\n",
              "      <td>72.615316</td>\n",
              "    </tr>\n",
              "    <tr>\n",
              "      <th>1</th>\n",
              "      <td>Concerts for fighters of Corona</td>\n",
              "      <td>43.277068</td>\n",
              "    </tr>\n",
              "    <tr>\n",
              "      <th>2</th>\n",
              "      <td>Hum Bhi Warriors: Residents come to Delhi Poli...</td>\n",
              "      <td>33.994159</td>\n",
              "    </tr>\n",
              "    <tr>\n",
              "      <th>3</th>\n",
              "      <td>Coronavirus: At Delhi-Noida border, health wor...</td>\n",
              "      <td>46.660668</td>\n",
              "    </tr>\n",
              "    <tr>\n",
              "      <th>4</th>\n",
              "      <td>Coronavirus pandemic: Testing times for Delhi ...</td>\n",
              "      <td>28.903749</td>\n",
              "    </tr>\n",
              "  </tbody>\n",
              "</table>\n",
              "</div>"
            ],
            "text/plain": [
              "                                                news  virality likelihood\n",
              "0                  Web series actors are bingeing on            72.615316\n",
              "1                    Concerts for fighters of Corona            43.277068\n",
              "2  Hum Bhi Warriors: Residents come to Delhi Poli...            33.994159\n",
              "3  Coronavirus: At Delhi-Noida border, health wor...            46.660668\n",
              "4  Coronavirus pandemic: Testing times for Delhi ...            28.903749"
            ]
          },
          "metadata": {
            "tags": []
          },
          "execution_count": 23
        }
      ]
    }
  ]
}